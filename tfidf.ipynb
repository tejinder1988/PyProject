{
 "cells": [
  {
   "cell_type": "code",
   "execution_count": 155,
   "metadata": {},
   "outputs": [],
   "source": [
    "from sklearn.feature_extraction.text import TfidfVectorizer\n",
    "from sklearn.neighbors import NearestNeighbors\n",
    "import numpy as np\n",
    "from sklearn.preprocessing import normalize"
   ]
  },
  {
   "cell_type": "code",
   "execution_count": 138,
   "metadata": {},
   "outputs": [],
   "source": [
    "corpus = [\n",
    "    'This is the first document.',\n",
    "    'This document is the second document.',\n",
    "    'And this is the third one.',\n",
    "    'Is this the first document?',\n",
    "    'The main part of a bodily structure or organ',\n",
    "    'A distinct bodily mass or organ having a specific function.',\n",
    "    'The principal of a bond.',\n",
    "    'A human or animal body, esp. a dead one.'\n",
    "]\n",
    "vectorizer = TfidfVectorizer()\n",
    "X = vectorizer.fit_transform(corpus)"
   ]
  },
  {
   "cell_type": "code",
   "execution_count": 140,
   "metadata": {},
   "outputs": [],
   "source": [
    "query = [\n",
    "    'this is the third one',\n",
    "    'second document',\n",
    "    'third one',\n",
    "    'This is the first document.',\n",
    "    'human',\n",
    "    'bond',\n",
    "    'my body is like a body !'\n",
    "]\n",
    "Y = vectorizer.transform(query)"
   ]
  },
  {
   "cell_type": "code",
   "execution_count": 141,
   "metadata": {},
   "outputs": [
    {
     "name": "stderr",
     "output_type": "stream",
     "text": [
      "c:\\Users\\tjeee\\AppData\\Local\\Programs\\Python\\Python310\\lib\\site-packages\\sklearn\\neighbors\\_base.py:504: UserWarning: cannot use tree with sparse input: using brute force\n",
      "  warnings.warn(\"cannot use tree with sparse input: using brute force\")\n"
     ]
    }
   ],
   "source": [
    "nbrs = NearestNeighbors(n_neighbors=1, algorithm='ball_tree').fit(X)\n",
    "res = nbrs.kneighbors(Y, return_distance = False)"
   ]
  },
  {
   "cell_type": "code",
   "execution_count": 135,
   "metadata": {},
   "outputs": [
    {
     "data": {
      "text/plain": [
       "NearestNeighbors(algorithm='ball_tree', n_neighbors=1)"
      ]
     },
     "execution_count": 135,
     "metadata": {},
     "output_type": "execute_result"
    }
   ],
   "source": []
  },
  {
   "cell_type": "code",
   "execution_count": 173,
   "metadata": {},
   "outputs": [],
   "source": [
    "X_n = normalize(X, axis = 0)\n",
    "Y_n = normalize(Y, axis = 0)"
   ]
  },
  {
   "cell_type": "code",
   "execution_count": 161,
   "metadata": {},
   "outputs": [],
   "source": [
    "from sklearn.preprocessing import Normalizer"
   ]
  },
  {
   "cell_type": "code",
   "execution_count": 170,
   "metadata": {},
   "outputs": [],
   "source": [
    "transformer_x = Normalizer().fit(X)\n",
    "X_n = transformer_x.transform(X)\n",
    "\n",
    "transformer_y = Normalizer().fit(Y)\n",
    "Y_n = transformer_y.transform(Y)"
   ]
  },
  {
   "cell_type": "code",
   "execution_count": 165,
   "metadata": {},
   "outputs": [],
   "source": []
  },
  {
   "cell_type": "code",
   "execution_count": 169,
   "metadata": {},
   "outputs": [
    {
     "data": {
      "text/plain": [
       "(8, 28)"
      ]
     },
     "execution_count": 169,
     "metadata": {},
     "output_type": "execute_result"
    }
   ],
   "source": [
    "X_n.shape"
   ]
  },
  {
   "cell_type": "code",
   "execution_count": 174,
   "metadata": {},
   "outputs": [
    {
     "data": {
      "text/plain": [
       "34.84834398579813"
      ]
     },
     "execution_count": 174,
     "metadata": {},
     "output_type": "execute_result"
    }
   ],
   "source": [
    "X_n.sum()"
   ]
  },
  {
   "cell_type": "code",
   "execution_count": 175,
   "metadata": {},
   "outputs": [
    {
     "data": {
      "text/plain": [
       "19.018552610597162"
      ]
     },
     "execution_count": 175,
     "metadata": {},
     "output_type": "execute_result"
    }
   ],
   "source": [
    "X.sum()"
   ]
  },
  {
   "cell_type": "code",
   "execution_count": 176,
   "metadata": {},
   "outputs": [],
   "source": [
    "cos_matrix = np.divide(\n",
    "    Y.dot(X.transpose()),\n",
    "    (Y_n*X_n.transpose()))\n",
    "    "
   ]
  },
  {
   "cell_type": "code",
   "execution_count": 142,
   "metadata": {},
   "outputs": [
    {
     "data": {
      "text/plain": [
       "[['And this is the third one.'],\n",
       " ['This document is the second document.'],\n",
       " ['And this is the third one.'],\n",
       " ['This is the first document.'],\n",
       " ['A human or animal body, esp. a dead one.'],\n",
       " ['The principal of a bond.'],\n",
       " ['A human or animal body, esp. a dead one.']]"
      ]
     },
     "execution_count": 142,
     "metadata": {},
     "output_type": "execute_result"
    }
   ],
   "source": [
    "[[corpus[i] for i in x] for x in res]"
   ]
  },
  {
   "cell_type": "code",
   "execution_count": 196,
   "metadata": {},
   "outputs": [
    {
     "data": {
      "text/plain": [
       "['And this is the third one.',\n",
       " 'This is the first document.',\n",
       " 'And this is the third one.',\n",
       " 'This document is the second document.',\n",
       " 'A human or animal body, esp. a dead one.',\n",
       " 'The principal of a bond.',\n",
       " 'This is the first document.']"
      ]
     },
     "execution_count": 196,
     "metadata": {},
     "output_type": "execute_result"
    }
   ],
   "source": [
    "index = [np.where(cos_matrix[i] == np.nanmax(cos_matrix[i]))[1][0] for i in range(cos_matrix.shape[0])]\n",
    "[corpus[i] for i in index]"
   ]
  },
  {
   "cell_type": "code",
   "execution_count": 197,
   "metadata": {},
   "outputs": [
    {
     "data": {
      "text/plain": [
       "['this is the third one',\n",
       " 'second document',\n",
       " 'third one',\n",
       " 'This is the first document.',\n",
       " 'human',\n",
       " 'bond',\n",
       " 'my body is like a body !']"
      ]
     },
     "execution_count": 197,
     "metadata": {},
     "output_type": "execute_result"
    }
   ],
   "source": [
    "query"
   ]
  },
  {
   "cell_type": "code",
   "execution_count": 107,
   "metadata": {},
   "outputs": [],
   "source": [
    "from  sklearn.utils.extmath import safe_sparse_dot"
   ]
  },
  {
   "cell_type": "code",
   "execution_count": 111,
   "metadata": {},
   "outputs": [
    {
     "data": {
      "text/plain": [
       "array([[0.07657396, 0.08310901, 0.        , 0.20617407],\n",
       "       [0.05963573, 0.2883203 , 0.        , 0.14193783],\n",
       "       [0.17304773, 0.        , 0.21903289, 0.05980174],\n",
       "       [0.07657396, 0.08310901, 0.        , 0.20617407]])"
      ]
     },
     "execution_count": 111,
     "metadata": {},
     "output_type": "execute_result"
    }
   ],
   "source": [
    "safe_sparse_dot(X_n, Y_n.T, dense_output=False).toarray()"
   ]
  },
  {
   "cell_type": "code",
   "execution_count": 127,
   "metadata": {},
   "outputs": [
    {
     "data": {
      "text/plain": [
       "array([[0.        , 0.46979139, 0.58028582, 0.38408524, 0.        ,\n",
       "        0.        , 0.38408524, 0.        , 0.38408524],\n",
       "       [0.        , 0.6876236 , 0.        , 0.28108867, 0.        ,\n",
       "        0.53864762, 0.28108867, 0.        , 0.28108867],\n",
       "       [0.51184851, 0.        , 0.        , 0.26710379, 0.51184851,\n",
       "        0.        , 0.26710379, 0.51184851, 0.26710379],\n",
       "       [0.        , 0.46979139, 0.58028582, 0.38408524, 0.        ,\n",
       "        0.        , 0.38408524, 0.        , 0.38408524]])"
      ]
     },
     "execution_count": 127,
     "metadata": {},
     "output_type": "execute_result"
    }
   ],
   "source": [
    "normalize(X)"
   ]
  },
  {
   "cell_type": "code",
   "execution_count": 125,
   "metadata": {},
   "outputs": [
    {
     "data": {
      "text/plain": [
       "array([[0.        , 0.21331533, 0.26348688, 0.17439926, 0.        ,\n",
       "        0.        , 0.17439926, 0.        , 0.17439926],\n",
       "       [0.        , 0.33225959, 0.        , 0.13582199, 0.        ,\n",
       "        0.26027443, 0.13582199, 0.        , 0.13582199],\n",
       "       [0.21903289, 0.        , 0.        , 0.11430045, 0.21903289,\n",
       "        0.        , 0.11430045, 0.21903289, 0.11430045],\n",
       "       [0.        , 0.21331533, 0.26348688, 0.17439926, 0.        ,\n",
       "        0.        , 0.17439926, 0.        , 0.17439926]])"
      ]
     },
     "execution_count": 125,
     "metadata": {},
     "output_type": "execute_result"
    }
   ],
   "source": [
    "X.toarray()"
   ]
  }
 ],
 "metadata": {
  "interpreter": {
   "hash": "f986aabcf6c12678184836c9f410c9a3ae8105243dee181c8880f2d17cde6d31"
  },
  "kernelspec": {
   "display_name": "Python 3.10.4 64-bit",
   "language": "python",
   "name": "python3"
  },
  "language_info": {
   "codemirror_mode": {
    "name": "ipython",
    "version": 3
   },
   "file_extension": ".py",
   "mimetype": "text/x-python",
   "name": "python",
   "nbconvert_exporter": "python",
   "pygments_lexer": "ipython3",
   "version": "3.10.4"
  },
  "orig_nbformat": 4
 },
 "nbformat": 4,
 "nbformat_minor": 2
}
