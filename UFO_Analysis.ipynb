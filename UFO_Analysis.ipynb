{
  "nbformat": 4,
  "nbformat_minor": 0,
  "metadata": {
    "colab": {
      "name": "UFO Analysis",
      "provenance": [],
      "authorship_tag": "ABX9TyOWWcNlfEjzeH5IjzY8gMFd",
      "include_colab_link": true
    },
    "kernelspec": {
      "name": "python3",
      "display_name": "Python 3"
    },
    "language_info": {
      "name": "python"
    }
  },
  "cells": [
    {
      "cell_type": "markdown",
      "metadata": {
        "id": "view-in-github",
        "colab_type": "text"
      },
      "source": [
        "<a href=\"https://colab.research.google.com/github/tejinder1988/PyProject/blob/main/UFO_Analysis.ipynb\" target=\"_parent\"><img src=\"https://colab.research.google.com/assets/colab-badge.svg\" alt=\"Open In Colab\"/></a>"
      ]
    },
    {
      "cell_type": "code",
      "metadata": {
        "id": "yR8NlrPuE4a3"
      },
      "source": [
        "import pandas as pd\n",
        "import plotly.express as px\n",
        "from collections import Counter\n",
        "import numpy as np"
      ],
      "execution_count": 43,
      "outputs": []
    },
    {
      "cell_type": "code",
      "metadata": {
        "id": "BPbDfjJbsC6w"
      },
      "source": [
        "pd.set_option('display.max_rows', 500)"
      ],
      "execution_count": 44,
      "outputs": []
    },
    {
      "cell_type": "code",
      "metadata": {
        "id": "Sl8kXodgE7TX"
      },
      "source": [
        "url = 'https://raw.githubusercontent.com/microsoft/ML-For-Beginners/main/3-Web-App/1-Web-App/data/ufos.csv'\n",
        "df = pd.read_csv(url, index_col=0)"
      ],
      "execution_count": 45,
      "outputs": []
    },
    {
      "cell_type": "code",
      "metadata": {
        "id": "RCbr7t3GhMf2"
      },
      "source": [
        "df['timestamp']=df.index"
      ],
      "execution_count": 46,
      "outputs": []
    },
    {
      "cell_type": "code",
      "metadata": {
        "id": "eMZ7MDWuiBqP"
      },
      "source": [
        "df=df.dropna()"
      ],
      "execution_count": 47,
      "outputs": []
    },
    {
      "cell_type": "code",
      "metadata": {
        "id": "HiOzmY_7kK0c",
        "colab": {
          "base_uri": "https://localhost:8080/"
        },
        "outputId": "05b51466-9bef-4544-e977-8c1e71f4deac"
      },
      "source": [
        "df.country.value_counts()"
      ],
      "execution_count": 48,
      "outputs": [
        {
          "output_type": "execute_result",
          "data": {
            "text/plain": [
              "us    63553\n",
              "ca     2942\n",
              "gb       11\n",
              "au       10\n",
              "Name: country, dtype: int64"
            ]
          },
          "metadata": {},
          "execution_count": 48
        }
      ]
    },
    {
      "cell_type": "code",
      "metadata": {
        "id": "0jyY6c0pkBNe"
      },
      "source": [
        "df.index=range(len(df))"
      ],
      "execution_count": 49,
      "outputs": []
    },
    {
      "cell_type": "code",
      "metadata": {
        "id": "-Eed3MuhmFNf"
      },
      "source": [
        "df[\"date\"]=df[\"timestamp\"].str[:-6]\n",
        "df[\"date\"]=pd.to_datetime(df[\"date\"], format=\"%m/%d/%Y\")\n",
        "df[\"year\"]=pd.DatetimeIndex(df['date']).year\n",
        "df[\"month\"]=pd.DatetimeIndex(df['date']).month"
      ],
      "execution_count": 50,
      "outputs": []
    },
    {
      "cell_type": "code",
      "metadata": {
        "id": "lpCG7JG3sMsB"
      },
      "source": [
        "df = df[(df[\"year\"]>1950) & (df[\"year\"]<2014)]"
      ],
      "execution_count": 51,
      "outputs": []
    },
    {
      "cell_type": "code",
      "metadata": {
        "id": "FKI7NSmBGXy0",
        "colab": {
          "base_uri": "https://localhost:8080/"
        },
        "outputId": "0e007161-d587-4923-fc97-236933369a44"
      },
      "source": [
        "len(df[[\"duration (seconds)\"]])"
      ],
      "execution_count": 52,
      "outputs": [
        {
          "output_type": "execute_result",
          "data": {
            "text/plain": [
              "64431"
            ]
          },
          "metadata": {},
          "execution_count": 52
        }
      ]
    },
    {
      "cell_type": "code",
      "metadata": {
        "id": "wwkZ36zSGLj2",
        "colab": {
          "base_uri": "https://localhost:8080/"
        },
        "outputId": "7a41ae1e-41ae-4184-9d6e-5d67572b7e11"
      },
      "source": [
        "len(df[df[\"duration (seconds)\"]>300])"
      ],
      "execution_count": 53,
      "outputs": [
        {
          "output_type": "execute_result",
          "data": {
            "text/plain": [
              "21455"
            ]
          },
          "metadata": {},
          "execution_count": 53
        }
      ]
    },
    {
      "cell_type": "code",
      "metadata": {
        "id": "CRcddlyTG26K"
      },
      "source": [
        "df=df[(df[\"duration (seconds)\"]>300) & (df[\"duration (seconds)\"]<3601)]"
      ],
      "execution_count": 55,
      "outputs": []
    },
    {
      "cell_type": "code",
      "metadata": {
        "id": "RjNVwzTih6Hh"
      },
      "source": [
        "df_subset_bycountry = df[[\"year\",\"country\"]]\n",
        "df_groupby_bycountry = df_subset_bycountry.groupby([\"year\",\"country\"]).size()\n",
        "#df_subset.groupby([\"year\",\"country\"]).size()"
      ],
      "execution_count": 56,
      "outputs": []
    },
    {
      "cell_type": "code",
      "metadata": {
        "id": "1bz-qa4OuIm_",
        "colab": {
          "base_uri": "https://localhost:8080/",
          "height": 351
        },
        "outputId": "9f9be55d-7f35-495a-84ac-9d87c35d0ca8"
      },
      "source": [
        "df_groupby_bycountry.unstack().plot(figsize=(30,5))"
      ],
      "execution_count": 57,
      "outputs": [
        {
          "output_type": "execute_result",
          "data": {
            "text/plain": [
              "<matplotlib.axes._subplots.AxesSubplot at 0x7fe959aac590>"
            ]
          },
          "metadata": {},
          "execution_count": 57
        },
        {
          "output_type": "display_data",
          "data": {
            "image/png": "[encoded data removed]",
            "text/plain": [
              "<Figure size 2160x360 with 1 Axes>"
            ]
          },
          "metadata": {
            "needs_background": "light"
          }
        }
      ]
    },
    {
      "cell_type": "code",
      "metadata": {
        "id": "0GSnKe9dPltc",
        "colab": {
          "base_uri": "https://localhost:8080/"
        },
        "outputId": "e0a815cd-1601-4d95-93ba-b7945370f8e3"
      },
      "source": [
        "df[\"shape\"].groupby(df[\"shape\"]).count()"
      ],
      "execution_count": 58,
      "outputs": [
        {
          "output_type": "execute_result",
          "data": {
            "text/plain": [
              "shape\n",
              "changed         1\n",
              "changing      697\n",
              "chevron       177\n",
              "cigar         431\n",
              "circle       1866\n",
              "cone           83\n",
              "cross          59\n",
              "cylinder      280\n",
              "delta           2\n",
              "diamond       318\n",
              "disk         1370\n",
              "egg           163\n",
              "fireball     1089\n",
              "flash         235\n",
              "formation     645\n",
              "light        4342\n",
              "other        1351\n",
              "oval          913\n",
              "rectangle     273\n",
              "round           1\n",
              "sphere       1272\n",
              "teardrop      155\n",
              "triangle     1763\n",
              "unknown      1477\n",
              "Name: shape, dtype: int64"
            ]
          },
          "metadata": {},
          "execution_count": 58
        }
      ]
    },
    {
      "cell_type": "code",
      "metadata": {
        "id": "ysfgpNcSS4Mu",
        "colab": {
          "base_uri": "https://localhost:8080/"
        },
        "outputId": "5d594fb5-f665-433a-d333-65a5b2c0fde5"
      },
      "source": [
        "df[\"shape\"][df[\"shape\"].isin([\"crescent\",\"round\",\"delta\",\"changed\"]) == False].groupby(df[\"shape\"]).count()"
      ],
      "execution_count": 59,
      "outputs": [
        {
          "output_type": "execute_result",
          "data": {
            "text/plain": [
              "shape\n",
              "changing      697\n",
              "chevron       177\n",
              "cigar         431\n",
              "circle       1866\n",
              "cone           83\n",
              "cross          59\n",
              "cylinder      280\n",
              "diamond       318\n",
              "disk         1370\n",
              "egg           163\n",
              "fireball     1089\n",
              "flash         235\n",
              "formation     645\n",
              "light        4342\n",
              "other        1351\n",
              "oval          913\n",
              "rectangle     273\n",
              "sphere       1272\n",
              "teardrop      155\n",
              "triangle     1763\n",
              "unknown      1477\n",
              "Name: shape, dtype: int64"
            ]
          },
          "metadata": {},
          "execution_count": 59
        }
      ]
    },
    {
      "cell_type": "code",
      "metadata": {
        "id": "gEee03syWYpN"
      },
      "source": [
        "df = df[df[\"shape\"].isin([\"crescent\",\"round\",\"delta\",\"changed\"]) == False]"
      ],
      "execution_count": 60,
      "outputs": []
    },
    {
      "cell_type": "code",
      "metadata": {
        "id": "jx59cfSPHMKe"
      },
      "source": [
        "df_subset_byshape= df[[\"year\",\"shape\"]]\n",
        "df_groupby_byshape = df_subset_byshape.groupby([\"year\",\"shape\"]).size()\n",
        "#df_subset_byshape.groupby([\"year\",\"shape\"]).size()"
      ],
      "execution_count": 61,
      "outputs": []
    },
    {
      "cell_type": "code",
      "metadata": {
        "id": "WRcczgaMJDOa",
        "colab": {
          "base_uri": "https://localhost:8080/",
          "height": 351
        },
        "outputId": "37223eeb-9c6b-4a9f-a343-813aaef3be59"
      },
      "source": [
        "df[\"shape\"].groupby(df[\"shape\"]).count().plot.bar(x='lab', y='val', rot=0,figsize=(30,5))"
      ],
      "execution_count": 62,
      "outputs": [
        {
          "output_type": "execute_result",
          "data": {
            "text/plain": [
              "<matplotlib.axes._subplots.AxesSubplot at 0x7fe95a1ed690>"
            ]
          },
          "metadata": {},
          "execution_count": 62
        },
        {
          "output_type": "display_data",
          "data": {
            "image/png": "[encoded data removed]",
            "text/plain": [
              "<Figure size 2160x360 with 1 Axes>"
            ]
          },
          "metadata": {
            "needs_background": "light"
          }
        }
      ]
    },
    {
      "cell_type": "code",
      "metadata": {
        "id": "OP6O1OqkLaVQ",
        "outputId": "dfb84749-d1e1-4746-d778-73e34ca816eb",
        "colab": {
          "base_uri": "https://localhost:8080/",
          "height": 282
        }
      },
      "source": [
        "df[\"duration (seconds)\"].groupby(df[\"duration (seconds)\"]).count().hist(bins=30)"
      ],
      "execution_count": 67,
      "outputs": [
        {
          "output_type": "execute_result",
          "data": {
            "text/plain": [
              "<matplotlib.axes._subplots.AxesSubplot at 0x7fe959ac0d90>"
            ]
          },
          "metadata": {},
          "execution_count": 67
        },
        {
          "output_type": "display_data",
          "data": {
            "image/png": "[encoded data removed]",
            "text/plain": [
              "<Figure size 432x288 with 1 Axes>"
            ]
          },
          "metadata": {
            "needs_background": "light"
          }
        }
      ]
    },
    {
      "cell_type": "code",
      "metadata": {
        "id": "x2-x2OF8E8vF",
        "colab": {
          "base_uri": "https://localhost:8080/"
        },
        "outputId": "8873963e-72e1-41c0-89e9-805d5539e080"
      },
      "source": [
        "df[\"duration (seconds)\"].groupby(df[\"duration (seconds)\"]).count()"
      ],
      "execution_count": 64,
      "outputs": [
        {
          "output_type": "execute_result",
          "data": {
            "text/plain": [
              "duration (seconds)\n",
              "300.13        1\n",
              "309.00        1\n",
              "310.00        2\n",
              "315.00        3\n",
              "322.00        1\n",
              "330.00        6\n",
              "335.00        1\n",
              "345.00        1\n",
              "345.50        1\n",
              "350.00        2\n",
              "355.00        1\n",
              "360.00      517\n",
              "380.00        1\n",
              "382.00        1\n",
              "384.00        1\n",
              "390.00        1\n",
              "393.00        1\n",
              "399.00        1\n",
              "400.00        1\n",
              "420.00      718\n",
              "424.00        1\n",
              "425.00        1\n",
              "435.00        1\n",
              "438.00        1\n",
              "450.00        5\n",
              "479.00        1\n",
              "480.00      480\n",
              "492.00        2\n",
              "496.00        1\n",
              "510.00        1\n",
              "540.00       68\n",
              "550.00        1\n",
              "555.00        1\n",
              "570.00        1\n",
              "585.00        1\n",
              "597.00        1\n",
              "599.00        1\n",
              "600.00     5039\n",
              "603.00        1\n",
              "605.00        2\n",
              "606.00        1\n",
              "610.00        1\n",
              "615.00        1\n",
              "620.00        1\n",
              "625.00        2\n",
              "630.00        3\n",
              "633.00        1\n",
              "639.00        1\n",
              "640.00        2\n",
              "658.00        1\n",
              "660.00       33\n",
              "688.00        1\n",
              "695.00        1\n",
              "698.00        1\n",
              "705.00        2\n",
              "720.00      196\n",
              "721.00        1\n",
              "725.00        1\n",
              "727.00        1\n",
              "750.00        1\n",
              "751.00        2\n",
              "771.00        1\n",
              "780.00       47\n",
              "800.00        1\n",
              "810.00        1\n",
              "835.00        1\n",
              "840.00       14\n",
              "841.00        1\n",
              "900.00     3249\n",
              "930.00        1\n",
              "960.00       29\n",
              "965.00        1\n",
              "978.00        1\n",
              "988.00        1\n",
              "994.00        1\n",
              "1000.00       2\n",
              "1010.00       1\n",
              "1015.00       1\n",
              "1020.00      36\n",
              "1045.00       1\n",
              "1046.00       1\n",
              "1049.00       1\n",
              "1050.00       2\n",
              "1060.00       1\n",
              "1076.00       1\n",
              "1080.00      35\n",
              "1081.00       1\n",
              "1084.00       1\n",
              "1085.00       1\n",
              "1090.00       1\n",
              "1102.00       1\n",
              "1110.00       1\n",
              "1133.00       1\n",
              "1140.00      16\n",
              "1155.00       2\n",
              "1170.00       3\n",
              "1180.00       1\n",
              "1183.00       1\n",
              "1184.00       2\n",
              "1185.00       2\n",
              "1194.00       1\n",
              "1200.00    2425\n",
              "1203.00       2\n",
              "1215.00       3\n",
              "1217.00       1\n",
              "1219.00       1\n",
              "1224.00       1\n",
              "1227.00       1\n",
              "1233.00       1\n",
              "1244.00       1\n",
              "1245.00       1\n",
              "1248.00       1\n",
              "1250.00       1\n",
              "1260.00      20\n",
              "1263.00       1\n",
              "1265.00       1\n",
              "1266.00       1\n",
              "1269.00       1\n",
              "1270.00       2\n",
              "1273.00       1\n",
              "1275.00       1\n",
              "1281.00       1\n",
              "1289.00       1\n",
              "1290.00       3\n",
              "1293.00       1\n",
              "1300.00       1\n",
              "1305.00       5\n",
              "1309.00       1\n",
              "1310.00       1\n",
              "1320.00      22\n",
              "1325.00       4\n",
              "1330.00       2\n",
              "1335.00       3\n",
              "1340.00       2\n",
              "1341.00       1\n",
              "1342.00       1\n",
              "1345.00       1\n",
              "1350.00       8\n",
              "1351.00       1\n",
              "1360.00       1\n",
              "1365.00       1\n",
              "1380.00      25\n",
              "1385.00       1\n",
              "1391.00       1\n",
              "1395.00       3\n",
              "1396.00       1\n",
              "1398.00       1\n",
              "1400.00       1\n",
              "1401.00       1\n",
              "1408.00       1\n",
              "1410.00       5\n",
              "1420.00       1\n",
              "1425.00       3\n",
              "1438.00       1\n",
              "1440.00      10\n",
              "1500.00     356\n",
              "1560.00       7\n",
              "1620.00       7\n",
              "1680.00      11\n",
              "1705.00       1\n",
              "1733.00       1\n",
              "1740.00       2\n",
              "1800.00    2212\n",
              "1810.00       1\n",
              "1830.00       1\n",
              "1845.00       2\n",
              "1860.00       2\n",
              "1920.00       8\n",
              "1935.00       1\n",
              "1980.00       8\n",
              "2040.00      12\n",
              "2100.00     137\n",
              "2160.00       4\n",
              "2187.00       1\n",
              "2220.00       4\n",
              "2280.00       3\n",
              "2340.00       3\n",
              "2400.00     303\n",
              "2496.00       1\n",
              "2520.00       5\n",
              "2530.00       1\n",
              "2580.00       4\n",
              "2640.00       1\n",
              "2700.00     834\n",
              "2760.00       2\n",
              "2820.00       4\n",
              "2880.00       6\n",
              "2940.00       2\n",
              "3000.00      58\n",
              "3045.00       1\n",
              "3060.00       3\n",
              "3120.00       2\n",
              "3180.00       1\n",
              "3240.00       1\n",
              "3300.00      17\n",
              "3360.00       4\n",
              "3420.00       1\n",
              "3480.00       1\n",
              "3540.00       1\n",
              "3600.00    1747\n",
              "Name: duration (seconds), dtype: int64"
            ]
          },
          "metadata": {},
          "execution_count": 64
        }
      ]
    },
    {
      "cell_type": "code",
      "metadata": {
        "id": "_1FD2JzfPFFN",
        "outputId": "365356eb-9199-44a6-85e7-860191887cd1",
        "colab": {
          "base_uri": "https://localhost:8080/",
          "height": 80
        }
      },
      "source": [
        ""
      ],
      "execution_count": 38,
      "outputs": [
        {
          "output_type": "execute_result",
          "data": {
            "text/html": [
              "<div>\n",
              "<style scoped>\n",
              "    .dataframe tbody tr th:only-of-type {\n",
              "        vertical-align: middle;\n",
              "    }\n",
              "\n",
              "    .dataframe tbody tr th {\n",
              "        vertical-align: top;\n",
              "    }\n",
              "\n",
              "    .dataframe thead th {\n",
              "        text-align: right;\n",
              "    }\n",
              "</style>\n",
              "<table border=\"1\" class=\"dataframe\">\n",
              "  <thead>\n",
              "    <tr style=\"text-align: right;\">\n",
              "      <th></th>\n",
              "      <th>city</th>\n",
              "      <th>state</th>\n",
              "      <th>country</th>\n",
              "      <th>shape</th>\n",
              "      <th>duration (seconds)</th>\n",
              "      <th>duration (hours/min)</th>\n",
              "      <th>comments</th>\n",
              "      <th>date posted</th>\n",
              "      <th>latitude</th>\n",
              "      <th>longitude</th>\n",
              "      <th>timestamp</th>\n",
              "      <th>date</th>\n",
              "      <th>year</th>\n",
              "      <th>month</th>\n",
              "      <th>duration (minutes)</th>\n",
              "    </tr>\n",
              "  </thead>\n",
              "  <tbody>\n",
              "    <tr>\n",
              "      <th>44062</th>\n",
              "      <td>ottawa (canada)</td>\n",
              "      <td>on</td>\n",
              "      <td>ca</td>\n",
              "      <td>other</td>\n",
              "      <td>82800000.0</td>\n",
              "      <td>23000hrs</td>\n",
              "      <td>((HOAX??))  I was out in a field near mil&amp;#44 ...</td>\n",
              "      <td>7/6/2010</td>\n",
              "      <td>45.416667</td>\n",
              "      <td>-75.7</td>\n",
              "      <td>6/3/2010 23:30</td>\n",
              "      <td>2010-06-03</td>\n",
              "      <td>2010</td>\n",
              "      <td>6</td>\n",
              "      <td>1380000.0</td>\n",
              "    </tr>\n",
              "  </tbody>\n",
              "</table>\n",
              "</div>"
            ],
            "text/plain": [
              "                  city state country  ...  year  month duration (minutes)\n",
              "44062  ottawa (canada)    on      ca  ...  2010      6          1380000.0\n",
              "\n",
              "[1 rows x 15 columns]"
            ]
          },
          "metadata": {},
          "execution_count": 38
        }
      ]
    }
  ]
}