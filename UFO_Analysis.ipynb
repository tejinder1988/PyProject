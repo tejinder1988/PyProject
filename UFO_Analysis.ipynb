{
  "nbformat": 4,
  "nbformat_minor": 0,
  "metadata": {
    "colab": {
      "name": "UFO Analysis",
      "provenance": [],
      "authorship_tag": "ABX9TyPLZZWHgP3mwmrCJZAQwhV1",
      "include_colab_link": true
    },
    "kernelspec": {
      "name": "python3",
      "display_name": "Python 3"
    },
    "language_info": {
      "name": "python"
    }
  },
  "cells": [
    {
      "cell_type": "markdown",
      "metadata": {
        "id": "view-in-github",
        "colab_type": "text"
      },
      "source": [
        "<a href=\"https://colab.research.google.com/github/tejinder1988/PyProject/blob/main/UFO_Analysis.ipynb\" target=\"_parent\"><img src=\"https://colab.research.google.com/assets/colab-badge.svg\" alt=\"Open In Colab\"/></a>"
      ]
    },
    {
      "cell_type": "code",
      "metadata": {
        "id": "yR8NlrPuE4a3"
      },
      "source": [
        "import pandas as pd\n",
        "import plotly.express as px\n",
        "from collections import Counter\n",
        "import numpy as np"
      ],
      "execution_count": 45,
      "outputs": []
    },
    {
      "cell_type": "code",
      "metadata": {
        "id": "BPbDfjJbsC6w"
      },
      "source": [
        "pd.set_option('display.max_rows', 500)"
      ],
      "execution_count": 51,
      "outputs": []
    },
    {
      "cell_type": "code",
      "metadata": {
        "id": "Sl8kXodgE7TX"
      },
      "source": [
        "url = 'https://raw.githubusercontent.com/microsoft/ML-For-Beginners/main/3-Web-App/1-Web-App/data/ufos.csv'\n",
        "df = pd.read_csv(url, index_col=0)"
      ],
      "execution_count": 4,
      "outputs": []
    },
    {
      "cell_type": "code",
      "metadata": {
        "id": "RCbr7t3GhMf2"
      },
      "source": [
        "df['timestamp']=df.index"
      ],
      "execution_count": 5,
      "outputs": []
    },
    {
      "cell_type": "code",
      "metadata": {
        "id": "eMZ7MDWuiBqP"
      },
      "source": [
        "df=df.dropna()"
      ],
      "execution_count": 6,
      "outputs": []
    },
    {
      "cell_type": "code",
      "metadata": {
        "id": "HiOzmY_7kK0c",
        "colab": {
          "base_uri": "https://localhost:8080/"
        },
        "outputId": "04ad761f-a123-43a5-f81b-31edb5029adb"
      },
      "source": [
        "df.country.value_counts()"
      ],
      "execution_count": 7,
      "outputs": [
        {
          "output_type": "execute_result",
          "data": {
            "text/plain": [
              "us    63553\n",
              "ca     2942\n",
              "gb       11\n",
              "au       10\n",
              "Name: country, dtype: int64"
            ]
          },
          "metadata": {},
          "execution_count": 7
        }
      ]
    },
    {
      "cell_type": "code",
      "metadata": {
        "id": "0jyY6c0pkBNe"
      },
      "source": [
        "df.index=range(len(df))"
      ],
      "execution_count": 8,
      "outputs": []
    },
    {
      "cell_type": "code",
      "metadata": {
        "id": "-Eed3MuhmFNf"
      },
      "source": [
        "df[\"date\"]=df[\"timestamp\"].str[:-6]\n",
        "df[\"date\"]=pd.to_datetime(df[\"date\"], format=\"%m/%d/%Y\")\n",
        "df[\"year\"]=pd.DatetimeIndex(df['date']).year\n",
        "df[\"month\"]=pd.DatetimeIndex(df['date']).month"
      ],
      "execution_count": 9,
      "outputs": []
    },
    {
      "cell_type": "code",
      "metadata": {
        "id": "lpCG7JG3sMsB"
      },
      "source": [
        "df = df[(df[\"year\"]>1950) & (df[\"year\"]<2014)]"
      ],
      "execution_count": 56,
      "outputs": []
    },
    {
      "cell_type": "code",
      "metadata": {
        "id": "FKI7NSmBGXy0",
        "outputId": "00c6220b-e8f5-463f-b623-569e6030c4e0",
        "colab": {
          "base_uri": "https://localhost:8080/"
        }
      },
      "source": [
        "len(df[[\"duration (seconds)\"]])"
      ],
      "execution_count": 57,
      "outputs": [
        {
          "output_type": "execute_result",
          "data": {
            "text/plain": [
              "21455"
            ]
          },
          "metadata": {},
          "execution_count": 57
        }
      ]
    },
    {
      "cell_type": "code",
      "metadata": {
        "id": "wwkZ36zSGLj2",
        "outputId": "d0cbeea1-75cc-4dc4-af30-937d39e2226e",
        "colab": {
          "base_uri": "https://localhost:8080/"
        }
      },
      "source": [
        "len(df[df[\"duration (seconds)\"]>300])"
      ],
      "execution_count": 58,
      "outputs": [
        {
          "output_type": "execute_result",
          "data": {
            "text/plain": [
              "21455"
            ]
          },
          "metadata": {},
          "execution_count": 58
        }
      ]
    },
    {
      "cell_type": "code",
      "metadata": {
        "id": "CRcddlyTG26K"
      },
      "source": [
        "df=df[df[\"duration (seconds)\"]>300]"
      ],
      "execution_count": 59,
      "outputs": []
    },
    {
      "cell_type": "code",
      "metadata": {
        "id": "RjNVwzTih6Hh"
      },
      "source": [
        "df_subset_bycountry = df[[\"year\",\"country\"]]\n",
        "df_groupby_bycountry = df_subset_bycountry.groupby([\"year\",\"country\"]).size()\n",
        "#df_subset.groupby([\"year\",\"country\"]).size()"
      ],
      "execution_count": 60,
      "outputs": []
    },
    {
      "cell_type": "code",
      "metadata": {
        "id": "1bz-qa4OuIm_",
        "colab": {
          "base_uri": "https://localhost:8080/",
          "height": 351
        },
        "outputId": "5cd1f56e-62f9-4fbf-fcb8-21acee38503f"
      },
      "source": [
        "df_groupby_bycountry.unstack().plot(figsize=(30,5))"
      ],
      "execution_count": 61,
      "outputs": [
        {
          "output_type": "execute_result",
          "data": {
            "text/plain": [
              "<matplotlib.axes._subplots.AxesSubplot at 0x7f22dbb0b850>"
            ]
          },
          "metadata": {},
          "execution_count": 61
        },
        {
          "output_type": "display_data",
          "data": {
            "image/png": "[encoded data removed]",
            "text/plain": [
              "<Figure size 2160x360 with 1 Axes>"
            ]
          },
          "metadata": {
            "needs_background": "light"
          }
        }
      ]
    },
    {
      "cell_type": "code",
      "metadata": {
        "id": "0GSnKe9dPltc",
        "outputId": "a9a43837-4de7-4b49-839d-20634f8a3e2e",
        "colab": {
          "base_uri": "https://localhost:8080/"
        }
      },
      "source": [
        "df[\"shape\"].groupby(df[\"shape\"]).count()"
      ],
      "execution_count": 63,
      "outputs": [
        {
          "output_type": "execute_result",
          "data": {
            "text/plain": [
              "shape\n",
              "changed         1\n",
              "changing      848\n",
              "chevron       193\n",
              "cigar         477\n",
              "circle       2112\n",
              "cone          100\n",
              "crescent        1\n",
              "cross          63\n",
              "cylinder      314\n",
              "delta           3\n",
              "diamond       371\n",
              "disk         1558\n",
              "egg           185\n",
              "fireball     1156\n",
              "flash         273\n",
              "formation     685\n",
              "light        4965\n",
              "other        1562\n",
              "oval         1018\n",
              "rectangle     301\n",
              "round           1\n",
              "sphere       1436\n",
              "teardrop      167\n",
              "triangle     1964\n",
              "unknown      1701\n",
              "Name: shape, dtype: int64"
            ]
          },
          "metadata": {},
          "execution_count": 63
        }
      ]
    },
    {
      "cell_type": "code",
      "metadata": {
        "id": "ysfgpNcSS4Mu",
        "outputId": "6d598e9d-53bc-430c-9c69-a695346c9c15",
        "colab": {
          "base_uri": "https://localhost:8080/"
        }
      },
      "source": [
        "df[\"shape\"][df[\"shape\"].isin([\"crescent\",\"round\",\"delta\",\"changed\"]) == False].groupby(df[\"shape\"]).count()"
      ],
      "execution_count": 76,
      "outputs": [
        {
          "output_type": "execute_result",
          "data": {
            "text/plain": [
              "shape\n",
              "changing      848\n",
              "chevron       193\n",
              "cigar         477\n",
              "circle       2112\n",
              "cone          100\n",
              "cross          63\n",
              "cylinder      314\n",
              "diamond       371\n",
              "disk         1558\n",
              "egg           185\n",
              "fireball     1156\n",
              "flash         273\n",
              "formation     685\n",
              "light        4965\n",
              "other        1562\n",
              "oval         1018\n",
              "rectangle     301\n",
              "sphere       1436\n",
              "teardrop      167\n",
              "triangle     1964\n",
              "unknown      1701\n",
              "Name: shape, dtype: int64"
            ]
          },
          "metadata": {},
          "execution_count": 76
        }
      ]
    },
    {
      "cell_type": "code",
      "metadata": {
        "id": "gEee03syWYpN"
      },
      "source": [
        "df = df[df[\"shape\"].isin([\"crescent\",\"round\",\"delta\",\"changed\"]) == False]"
      ],
      "execution_count": 81,
      "outputs": []
    },
    {
      "cell_type": "code",
      "metadata": {
        "id": "jx59cfSPHMKe"
      },
      "source": [
        "df_subset_byshape= df[[\"year\",\"shape\"]]\n",
        "df_groupby_byshape = df_subset_byshape.groupby([\"year\",\"shape\"]).size()\n",
        "#df_subset_byshape.groupby([\"year\",\"shape\"]).size()"
      ],
      "execution_count": 82,
      "outputs": []
    },
    {
      "cell_type": "code",
      "metadata": {
        "id": "WRcczgaMJDOa",
        "outputId": "7dae7f3b-a43d-4ee8-9fe7-3eae3364883d",
        "colab": {
          "base_uri": "https://localhost:8080/",
          "height": 351
        }
      },
      "source": [
        "df[\"shape\"].groupby(df[\"shape\"]).count().plot.bar(x='lab', y='val', rot=0,figsize=(30,5))"
      ],
      "execution_count": 83,
      "outputs": [
        {
          "output_type": "execute_result",
          "data": {
            "text/plain": [
              "<matplotlib.axes._subplots.AxesSubplot at 0x7f22dba17550>"
            ]
          },
          "metadata": {},
          "execution_count": 83
        },
        {
          "output_type": "display_data",
          "data": {
            "image/png": "[encoded data removed]",
            "text/plain": [
              "<Figure size 2160x360 with 1 Axes>"
            ]
          },
          "metadata": {
            "needs_background": "light"
          }
        }
      ]
    },
    {
      "cell_type": "code",
      "metadata": {
        "id": "x2-x2OF8E8vF",
        "colab": {
          "base_uri": "https://localhost:8080/",
          "height": 204
        },
        "outputId": "f97d2d4e-6fff-431f-c205-3d605310cfaf"
      },
      "source": [
        "df.head()"
      ],
      "execution_count": 13,
      "outputs": [
        {
          "output_type": "execute_result",
          "data": {
            "text/html": [
              "<div>\n",
              "<style scoped>\n",
              "    .dataframe tbody tr th:only-of-type {\n",
              "        vertical-align: middle;\n",
              "    }\n",
              "\n",
              "    .dataframe tbody tr th {\n",
              "        vertical-align: top;\n",
              "    }\n",
              "\n",
              "    .dataframe thead th {\n",
              "        text-align: right;\n",
              "    }\n",
              "</style>\n",
              "<table border=\"1\" class=\"dataframe\">\n",
              "  <thead>\n",
              "    <tr style=\"text-align: right;\">\n",
              "      <th></th>\n",
              "      <th>city</th>\n",
              "      <th>state</th>\n",
              "      <th>country</th>\n",
              "      <th>shape</th>\n",
              "      <th>duration (seconds)</th>\n",
              "      <th>duration (hours/min)</th>\n",
              "      <th>comments</th>\n",
              "      <th>date posted</th>\n",
              "      <th>latitude</th>\n",
              "      <th>longitude</th>\n",
              "      <th>timestamp</th>\n",
              "      <th>date</th>\n",
              "      <th>year</th>\n",
              "      <th>month</th>\n",
              "    </tr>\n",
              "  </thead>\n",
              "  <tbody>\n",
              "    <tr>\n",
              "      <th>1</th>\n",
              "      <td>edna</td>\n",
              "      <td>tx</td>\n",
              "      <td>us</td>\n",
              "      <td>circle</td>\n",
              "      <td>20.0</td>\n",
              "      <td>1/2 hour</td>\n",
              "      <td>My older brother and twin sister were leaving ...</td>\n",
              "      <td>1/17/2004</td>\n",
              "      <td>28.978333</td>\n",
              "      <td>-96.645833</td>\n",
              "      <td>10/10/1956 21:00</td>\n",
              "      <td>1956-10-10</td>\n",
              "      <td>1956</td>\n",
              "      <td>10</td>\n",
              "    </tr>\n",
              "    <tr>\n",
              "      <th>2</th>\n",
              "      <td>kaneohe</td>\n",
              "      <td>hi</td>\n",
              "      <td>us</td>\n",
              "      <td>light</td>\n",
              "      <td>900.0</td>\n",
              "      <td>15 minutes</td>\n",
              "      <td>AS a Marine 1st Lt. flying an FJ4B fighter/att...</td>\n",
              "      <td>1/22/2004</td>\n",
              "      <td>21.418056</td>\n",
              "      <td>-157.803611</td>\n",
              "      <td>10/10/1960 20:00</td>\n",
              "      <td>1960-10-10</td>\n",
              "      <td>1960</td>\n",
              "      <td>10</td>\n",
              "    </tr>\n",
              "    <tr>\n",
              "      <th>3</th>\n",
              "      <td>bristol</td>\n",
              "      <td>tn</td>\n",
              "      <td>us</td>\n",
              "      <td>sphere</td>\n",
              "      <td>300.0</td>\n",
              "      <td>5 minutes</td>\n",
              "      <td>My father is now 89 my brother 52 the girl wit...</td>\n",
              "      <td>4/27/2007</td>\n",
              "      <td>36.595000</td>\n",
              "      <td>-82.188889</td>\n",
              "      <td>10/10/1961 19:00</td>\n",
              "      <td>1961-10-10</td>\n",
              "      <td>1961</td>\n",
              "      <td>10</td>\n",
              "    </tr>\n",
              "    <tr>\n",
              "      <th>4</th>\n",
              "      <td>norwalk</td>\n",
              "      <td>ct</td>\n",
              "      <td>us</td>\n",
              "      <td>disk</td>\n",
              "      <td>1200.0</td>\n",
              "      <td>20 minutes</td>\n",
              "      <td>A bright orange color changing to reddish colo...</td>\n",
              "      <td>10/2/1999</td>\n",
              "      <td>41.117500</td>\n",
              "      <td>-73.408333</td>\n",
              "      <td>10/10/1965 23:45</td>\n",
              "      <td>1965-10-10</td>\n",
              "      <td>1965</td>\n",
              "      <td>10</td>\n",
              "    </tr>\n",
              "    <tr>\n",
              "      <th>5</th>\n",
              "      <td>pell city</td>\n",
              "      <td>al</td>\n",
              "      <td>us</td>\n",
              "      <td>disk</td>\n",
              "      <td>180.0</td>\n",
              "      <td>3  minutes</td>\n",
              "      <td>Strobe Lighted disk shape object observed clos...</td>\n",
              "      <td>3/19/2009</td>\n",
              "      <td>33.586111</td>\n",
              "      <td>-86.286111</td>\n",
              "      <td>10/10/1966 20:00</td>\n",
              "      <td>1966-10-10</td>\n",
              "      <td>1966</td>\n",
              "      <td>10</td>\n",
              "    </tr>\n",
              "  </tbody>\n",
              "</table>\n",
              "</div>"
            ],
            "text/plain": [
              "        city state country   shape  ...         timestamp       date  year month\n",
              "1       edna    tx      us  circle  ...  10/10/1956 21:00 1956-10-10  1956    10\n",
              "2    kaneohe    hi      us   light  ...  10/10/1960 20:00 1960-10-10  1960    10\n",
              "3    bristol    tn      us  sphere  ...  10/10/1961 19:00 1961-10-10  1961    10\n",
              "4    norwalk    ct      us    disk  ...  10/10/1965 23:45 1965-10-10  1965    10\n",
              "5  pell city    al      us    disk  ...  10/10/1966 20:00 1966-10-10  1966    10\n",
              "\n",
              "[5 rows x 14 columns]"
            ]
          },
          "metadata": {},
          "execution_count": 13
        }
      ]
    }
  ]
}